{
 "cells": [
  {
   "cell_type": "code",
   "execution_count": null,
   "metadata": {},
   "outputs": [],
   "source": [
    "import pandas as pd"
   ]
  },
  {
   "cell_type": "code",
   "execution_count": null,
   "metadata": {},
   "outputs": [],
   "source": [
    "#Es necesario convertir los valores dados por Labview que son de la forma \"c,00000\" siendo c un natural a un float para poder compararlos\n",
    "def stringADecimal(a):\n",
    "    valor = a\n",
    "    valor_sin_coma = valor.replace(\",\", \".\")  \n",
    "    valor_float = float(valor_sin_coma)\n",
    "    return valor_float"
   ]
  },
  {
   "cell_type": "markdown",
   "metadata": {},
   "source": [
    "## Filtro para los datos con unidades QDC menores a 100 para ambos PMTs 'horizontales', es decir, 'X1' y 'X2', o para ambos PMTs 'verticales', es decir, 'Y1' y 'Y2'."
   ]
  },
  {
   "cell_type": "code",
   "execution_count": null,
   "metadata": {},
   "outputs": [],
   "source": [
    "for i in range(1,1140):\n",
    "    data = pd.read_table(f\"Tiempo_Datos_{i}.txt\",sep='\\t' ,header=None)\n",
    "    archivo = open(f'NuevosDatos_{i}.txt','w')\n",
    "\n",
    "    for j in range(0,len(data[0])):\n",
    "        PMTY1 = stringADecimal(data[4][j])\n",
    "        PMTY2 = stringADecimal(data[5][j])\n",
    "        PMTX1 = stringADecimal(data[6][j])\n",
    "        PMTX2 = stringADecimal(data[7][j])\n",
    "        if PMTY1 >= 100 and PMTX1 >= 100:\n",
    "            archivo.write(f\"{data[0][j]}\\t{data[1][j]}\\t{data[2][j]}\\t{data[3][j]}\\t{data[4][j]}\\t{data[5][j]}\\t{data[6][j]}\\t{data[7][j]}\\t{data[8][j]}\\n\")\n",
    "            continue\n",
    "        elif PMTY1 >= 100 and PMTX2 >= 100:\n",
    "            archivo.write(f\"{data[0][j]}\\t{data[1][j]}\\t{data[2][j]}\\t{data[3][j]}\\t{data[4][j]}\\t{data[5][j]}\\t{data[6][j]}\\t{data[7][j]}\\t{data[8][j]}\\n\")\n",
    "            continue\n",
    "        elif PMTY2 >= 100 and PMTX1 >= 100:\n",
    "            archivo.write(f\"{data[0][j]}\\t{data[1][j]}\\t{data[2][j]}\\t{data[3][j]}\\t{data[4][j]}\\t{data[5][j]}\\t{data[6][j]}\\t{data[7][j]}\\t{data[8][j]}\\n\")\n",
    "            continue\n",
    "        elif PMTY2 >= 100 and PMTX2 >= 100:\n",
    "            archivo.write(f\"{data[0][j]}\\t{data[1][j]}\\t{data[2][j]}\\t{data[3][j]}\\t{data[4][j]}\\t{data[5][j]}\\t{data[6][j]}\\t{data[7][j]}\\t{data[8][j]}\\n\")\n",
    "            continue\n",
    "    archivo.close()"
   ]
  },
  {
   "cell_type": "markdown",
   "metadata": {},
   "source": [
    "## Filtro para los datos menores a 100 unidades QDC para cualquier PMT."
   ]
  },
  {
   "cell_type": "code",
   "execution_count": null,
   "metadata": {},
   "outputs": [],
   "source": [
    "for i in range(1,1140):\n",
    "    data = pd.read_table(f\"Tiempo_Datos_{i}.txt\",sep='\\t' ,header=None)\n",
    "    archivo = open(f'NuevosDatos_{i}.txt','w')\n",
    "    print(i)\n",
    "    for j in range(0,len(data[0])):\n",
    "        PMTY1 = stringADecimal(data[4][j])\n",
    "        PMTY2 = stringADecimal(data[5][j])\n",
    "        PMTX1 = stringADecimal(data[6][j])\n",
    "        PMTX2 = stringADecimal(data[7][j])\n",
    "        if PMTY1 >= 100 and PMTY2 >= 100 and PMTX1 >= 100 and PMTX2 >= 100:\n",
    "            archivo.write(f\"{data[0][j]}\\t{data[1][j]}\\t{data[2][j]}\\t{data[3][j]}\\t{data[4][j]}\\t{data[5][j]}\\t{data[6][j]}\\t{data[7][j]}\\t{data[8][j]}\\n\")\n",
    "    archivo.close()"
   ]
  }
 ],
 "metadata": {
  "language_info": {
   "name": "python"
  }
 },
 "nbformat": 4,
 "nbformat_minor": 2
}
